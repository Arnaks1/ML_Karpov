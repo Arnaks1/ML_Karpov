{
 "cells": [
  {
   "cell_type": "code",
   "metadata": {
    "id": "x9TbZ0UyyF0I",
    "ExecuteTime": {
     "end_time": "2025-06-01T21:27:37.138571Z",
     "start_time": "2025-06-01T21:27:37.130729Z"
    }
   },
   "source": [
    "import pandas as pd\n",
    "import numpy as np\n",
    "import matplotlib.pyplot as plt\n",
    "import seaborn as sns\n",
    "\n",
    "plt.style.use(\"default\")\n",
    "\n",
    "pd.options.display.max_columns = 500"
   ],
   "outputs": [],
   "execution_count": 1
  },
  {
   "cell_type": "markdown",
   "metadata": {
    "id": "eCHwqIE8yF0M"
   },
   "source": [
    "### Загрузим датасет с машинами. Цель - верно восстанавливать для каждой из них цену продажи!"
   ]
  },
  {
   "cell_type": "code",
   "metadata": {
    "id": "vHohclJJyF0O",
    "ExecuteTime": {
     "end_time": "2025-06-01T21:27:37.181580Z",
     "start_time": "2025-06-01T21:27:37.148395Z"
    }
   },
   "source": [
    "data = pd.read_csv('autos.csv')\n",
    "\n",
    "data.head()"
   ],
   "outputs": [
    {
     "data": {
      "text/plain": [
       "                       name  year  selling_price  km_driven    fuel  \\\n",
       "0             Maruti 800 AC  2007          60000      70000  Petrol   \n",
       "1  Maruti Wagon R LXI Minor  2007         135000      50000  Petrol   \n",
       "2      Hyundai Verna 1.6 SX  2012         600000     100000  Diesel   \n",
       "3    Datsun RediGO T Option  2017         250000      46000  Petrol   \n",
       "4     Honda Amaze VX i-DTEC  2014         450000     141000  Diesel   \n",
       "\n",
       "  seller_type transmission         owner  \n",
       "0  Individual       Manual   First Owner  \n",
       "1  Individual       Manual   First Owner  \n",
       "2  Individual       Manual   First Owner  \n",
       "3  Individual       Manual   First Owner  \n",
       "4  Individual       Manual  Second Owner  "
      ],
      "text/html": [
       "<div>\n",
       "<style scoped>\n",
       "    .dataframe tbody tr th:only-of-type {\n",
       "        vertical-align: middle;\n",
       "    }\n",
       "\n",
       "    .dataframe tbody tr th {\n",
       "        vertical-align: top;\n",
       "    }\n",
       "\n",
       "    .dataframe thead th {\n",
       "        text-align: right;\n",
       "    }\n",
       "</style>\n",
       "<table border=\"1\" class=\"dataframe\">\n",
       "  <thead>\n",
       "    <tr style=\"text-align: right;\">\n",
       "      <th></th>\n",
       "      <th>name</th>\n",
       "      <th>year</th>\n",
       "      <th>selling_price</th>\n",
       "      <th>km_driven</th>\n",
       "      <th>fuel</th>\n",
       "      <th>seller_type</th>\n",
       "      <th>transmission</th>\n",
       "      <th>owner</th>\n",
       "    </tr>\n",
       "  </thead>\n",
       "  <tbody>\n",
       "    <tr>\n",
       "      <th>0</th>\n",
       "      <td>Maruti 800 AC</td>\n",
       "      <td>2007</td>\n",
       "      <td>60000</td>\n",
       "      <td>70000</td>\n",
       "      <td>Petrol</td>\n",
       "      <td>Individual</td>\n",
       "      <td>Manual</td>\n",
       "      <td>First Owner</td>\n",
       "    </tr>\n",
       "    <tr>\n",
       "      <th>1</th>\n",
       "      <td>Maruti Wagon R LXI Minor</td>\n",
       "      <td>2007</td>\n",
       "      <td>135000</td>\n",
       "      <td>50000</td>\n",
       "      <td>Petrol</td>\n",
       "      <td>Individual</td>\n",
       "      <td>Manual</td>\n",
       "      <td>First Owner</td>\n",
       "    </tr>\n",
       "    <tr>\n",
       "      <th>2</th>\n",
       "      <td>Hyundai Verna 1.6 SX</td>\n",
       "      <td>2012</td>\n",
       "      <td>600000</td>\n",
       "      <td>100000</td>\n",
       "      <td>Diesel</td>\n",
       "      <td>Individual</td>\n",
       "      <td>Manual</td>\n",
       "      <td>First Owner</td>\n",
       "    </tr>\n",
       "    <tr>\n",
       "      <th>3</th>\n",
       "      <td>Datsun RediGO T Option</td>\n",
       "      <td>2017</td>\n",
       "      <td>250000</td>\n",
       "      <td>46000</td>\n",
       "      <td>Petrol</td>\n",
       "      <td>Individual</td>\n",
       "      <td>Manual</td>\n",
       "      <td>First Owner</td>\n",
       "    </tr>\n",
       "    <tr>\n",
       "      <th>4</th>\n",
       "      <td>Honda Amaze VX i-DTEC</td>\n",
       "      <td>2014</td>\n",
       "      <td>450000</td>\n",
       "      <td>141000</td>\n",
       "      <td>Diesel</td>\n",
       "      <td>Individual</td>\n",
       "      <td>Manual</td>\n",
       "      <td>Second Owner</td>\n",
       "    </tr>\n",
       "  </tbody>\n",
       "</table>\n",
       "</div>"
      ]
     },
     "execution_count": 2,
     "metadata": {},
     "output_type": "execute_result"
    }
   ],
   "execution_count": 2
  },
  {
   "cell_type": "code",
   "metadata": {
    "id": "_48JHObiyF0P",
    "ExecuteTime": {
     "end_time": "2025-06-01T21:27:44.289864Z",
     "start_time": "2025-06-01T21:27:44.276908Z"
    }
   },
   "source": [
    "### Колонка с тергетом - \"selling price\"\n",
    "\n",
    "X = data.drop(\"selling_price\", axis=1)\n",
    "Y = data[\"selling_price\"]\n",
    "\n",
    "### Будем замерять MSLE!\n",
    "### Поэтому прологарифмируем таргет\n",
    "### А после оптимизируем MSE\n",
    "\n",
    "Y = Y.apply(np.log1p)"
   ],
   "outputs": [],
   "execution_count": 3
  },
  {
   "cell_type": "code",
   "metadata": {
    "id": "-7qoCjH_yF0Q",
    "ExecuteTime": {
     "end_time": "2025-06-01T21:30:03.003911Z",
     "start_time": "2025-06-01T21:30:02.991488Z"
    }
   },
   "source": [
    "### Разделим выборку на трейн и тест!\n",
    "\n",
    "from sklearn.model_selection import train_test_split \n",
    "\n",
    "X_train, X_test, Y_train, Y_test = train_test_split(X, Y, test_size=0.2, random_state=1)"
   ],
   "outputs": [],
   "execution_count": 5
  },
  {
   "cell_type": "markdown",
   "metadata": {
    "id": "T2Cawl_lyF0Q"
   },
   "source": [
    "__Задание__ \n",
    "\n",
    "Реализуйте свой MeanTargetEncoder с добавленем некоторого шума!\n",
    "\n",
    "Однажды в лекционном материале, обсуждая счетчики, мы говорили с вами о том, что из-за них модели могут переобучаться. Один из способов бороться с этим - валидировать расчеты среднего таргета (стратегия отложенной выборки / расчеты на кросс-валидации). Но есть еще проще!\n",
    "\n",
    "Можно просто к значению счетчика добавить случайный шум (зашумить данные)!\n",
    "\n",
    "Напомним, что рассчитываться новые признаки должны по такой формуле:\n",
    "\n",
    "$$\n",
    "g_j = \\frac{\\sum_{i=1}^{l} [f_j(x) = f_j(x_i)]}{l} + C * \\epsilon\n",
    "$$\n",
    "\n",
    "\n",
    "\n",
    "Пусть шум будет случайной величиной из нормального стандартного распределения, то есть $\\epsilon \\sim N(0, 1) $, а $ C = 0.006$."
   ]
  },
  {
   "cell_type": "markdown",
   "metadata": {
    "id": "DeVJ1WRbyF0R"
   },
   "source": [
    "Создавая свой класс-трансформер, наследуйтесь от классов `BaseEstimator, TransformerMixin` из `sklearn.base`. Трансформер не должен модифицировать передаваемую ему выборку inplace, а все необходимые статистики нужно считать только по обучающей выборке в методе `fit`. Ваш трансформер должен принимать при инициализации список из категориальных признаков и список из числовых признаков. \n",
    "\n",
    "Если для какого-то признака в тестовой выборке отсутствует значение, трансформер должен поставить там 0.\n",
    "\n",
    "На выходе должен получиться датасет того же размера с измененными категориальными признаками."
   ]
  },
  {
   "cell_type": "markdown",
   "source": [
    "Класс MeanTargetEncoderNoise должен иметь следующую сигнатуру:\n",
    "\n"
   ],
   "metadata": {
    "id": "Yvgr07YgVpkR"
   }
  },
  {
   "cell_type": "code",
   "source": [
    "from sklearn.base import BaseEstimator, TransformerMixin\n",
    "\n",
    "class MeanTargetEncoderNoise(BaseEstimator, TransformerMixin):\n",
    "    \n",
    "    def __init__(self, categorical, numeric):              \n",
    "        ### Your code is here\n",
    "        pass\n",
    "    def fit(self, X, y):\n",
    "        ### Your code is here\n",
    "\n",
    "        return self\n",
    "        \n",
    "    def transform(self, df):\n",
    "        ### Your code is here\n",
    "        \n",
    "        return temp"
   ],
   "metadata": {
    "id": "ZcM2Ax1CWBlY"
   },
   "execution_count": null,
   "outputs": []
  },
  {
   "cell_type": "markdown",
   "source": [
    "Разделите колонки на вещественные и категориальные. Приведите все категориальные колонки к типу `object`.\n",
    "\n",
    "Далее применим наш кодировщик к `X_train, X_test`, так же как например мы применяем `StandardScaler`, чтобы проверить работоспособность нашего класса. Установите зерно датчика случайный чисел `np.random.seed(1)`.\n",
    "\n",
    "После того, как вы изменили обучающую и тестовую выборки, сохраните первые 10 строк полученного промежуточного датафрейма обучающей выборки (`X_train`) в файл в формате csv с сепаратором `;`. Не забудьте индекс. Отправьте полученный файл в форму ниже.\n",
    "\n",
    "Список колонок которые должны быть в файле для сдачи:\n",
    "```py\n",
    "cols = [\n",
    "    \"km_driven\",\n",
    "    \"name\",\n",
    "    \"year\",\n",
    "    \"fuel\",\n",
    "    \"seller_type\",\n",
    "    \"transmission\",\n",
    "    \"owner\"\n",
    "]\n",
    "```"
   ],
   "metadata": {
    "id": "4s8IjJMbViVS"
   }
  },
  {
   "cell_type": "markdown",
   "source": [
    "### Ваше решение\n"
   ],
   "metadata": {
    "id": "942UEr0bV7yb"
   }
  },
  {
   "cell_type": "markdown",
   "source": [
    "Разделение колонок на категориальные и числовые."
   ],
   "metadata": {
    "id": "GLSV8-OrWO6_"
   }
  },
  {
   "cell_type": "code",
   "metadata": {
    "id": "jfENggauyF0S",
    "ExecuteTime": {
     "end_time": "2025-06-01T21:30:11.054166Z",
     "start_time": "2025-06-01T21:30:11.037946Z"
    }
   },
   "source": [
    "object_cols = ['name', 'year', 'fuel', 'seller_type', 'transmission', 'owner']\n",
    "num_cols = ['km_driven']\n",
    "\n",
    "X.head()"
   ],
   "outputs": [
    {
     "data": {
      "text/plain": [
       "                       name  year  km_driven    fuel seller_type transmission  \\\n",
       "0             Maruti 800 AC  2007      70000  Petrol  Individual       Manual   \n",
       "1  Maruti Wagon R LXI Minor  2007      50000  Petrol  Individual       Manual   \n",
       "2      Hyundai Verna 1.6 SX  2012     100000  Diesel  Individual       Manual   \n",
       "3    Datsun RediGO T Option  2017      46000  Petrol  Individual       Manual   \n",
       "4     Honda Amaze VX i-DTEC  2014     141000  Diesel  Individual       Manual   \n",
       "\n",
       "          owner  \n",
       "0   First Owner  \n",
       "1   First Owner  \n",
       "2   First Owner  \n",
       "3   First Owner  \n",
       "4  Second Owner  "
      ],
      "text/html": [
       "<div>\n",
       "<style scoped>\n",
       "    .dataframe tbody tr th:only-of-type {\n",
       "        vertical-align: middle;\n",
       "    }\n",
       "\n",
       "    .dataframe tbody tr th {\n",
       "        vertical-align: top;\n",
       "    }\n",
       "\n",
       "    .dataframe thead th {\n",
       "        text-align: right;\n",
       "    }\n",
       "</style>\n",
       "<table border=\"1\" class=\"dataframe\">\n",
       "  <thead>\n",
       "    <tr style=\"text-align: right;\">\n",
       "      <th></th>\n",
       "      <th>name</th>\n",
       "      <th>year</th>\n",
       "      <th>km_driven</th>\n",
       "      <th>fuel</th>\n",
       "      <th>seller_type</th>\n",
       "      <th>transmission</th>\n",
       "      <th>owner</th>\n",
       "    </tr>\n",
       "  </thead>\n",
       "  <tbody>\n",
       "    <tr>\n",
       "      <th>0</th>\n",
       "      <td>Maruti 800 AC</td>\n",
       "      <td>2007</td>\n",
       "      <td>70000</td>\n",
       "      <td>Petrol</td>\n",
       "      <td>Individual</td>\n",
       "      <td>Manual</td>\n",
       "      <td>First Owner</td>\n",
       "    </tr>\n",
       "    <tr>\n",
       "      <th>1</th>\n",
       "      <td>Maruti Wagon R LXI Minor</td>\n",
       "      <td>2007</td>\n",
       "      <td>50000</td>\n",
       "      <td>Petrol</td>\n",
       "      <td>Individual</td>\n",
       "      <td>Manual</td>\n",
       "      <td>First Owner</td>\n",
       "    </tr>\n",
       "    <tr>\n",
       "      <th>2</th>\n",
       "      <td>Hyundai Verna 1.6 SX</td>\n",
       "      <td>2012</td>\n",
       "      <td>100000</td>\n",
       "      <td>Diesel</td>\n",
       "      <td>Individual</td>\n",
       "      <td>Manual</td>\n",
       "      <td>First Owner</td>\n",
       "    </tr>\n",
       "    <tr>\n",
       "      <th>3</th>\n",
       "      <td>Datsun RediGO T Option</td>\n",
       "      <td>2017</td>\n",
       "      <td>46000</td>\n",
       "      <td>Petrol</td>\n",
       "      <td>Individual</td>\n",
       "      <td>Manual</td>\n",
       "      <td>First Owner</td>\n",
       "    </tr>\n",
       "    <tr>\n",
       "      <th>4</th>\n",
       "      <td>Honda Amaze VX i-DTEC</td>\n",
       "      <td>2014</td>\n",
       "      <td>141000</td>\n",
       "      <td>Diesel</td>\n",
       "      <td>Individual</td>\n",
       "      <td>Manual</td>\n",
       "      <td>Second Owner</td>\n",
       "    </tr>\n",
       "  </tbody>\n",
       "</table>\n",
       "</div>"
      ]
     },
     "execution_count": 6,
     "metadata": {},
     "output_type": "execute_result"
    }
   ],
   "execution_count": 6
  },
  {
   "metadata": {
    "ExecuteTime": {
     "end_time": "2025-06-01T21:31:31.757213Z",
     "start_time": "2025-06-01T21:31:31.731129Z"
    }
   },
   "cell_type": "code",
   "source": [
    "mapping = {'year': Y.groupby(X['year']).mean()}\n",
    "mapping"
   ],
   "outputs": [
    {
     "data": {
      "text/plain": [
       "{'year': year\n",
       " 1992    10.819798\n",
       " 1995    11.461643\n",
       " 1996    12.317649\n",
       " 1997    11.338470\n",
       " 1998    11.392866\n",
       " 1999    11.129003\n",
       " 2000    11.177787\n",
       " 2001    11.363014\n",
       " 2002    11.342487\n",
       " 2003    11.268382\n",
       " 2004    11.556526\n",
       " 2005    11.483543\n",
       " 2006    11.727260\n",
       " 2007    11.812244\n",
       " 2008    11.911333\n",
       " 2009    12.156795\n",
       " 2010    12.264658\n",
       " 2011    12.411815\n",
       " 2012    12.619788\n",
       " 2013    12.858769\n",
       " 2014    12.947612\n",
       " 2015    13.039875\n",
       " 2016    13.134919\n",
       " 2017    13.343400\n",
       " 2018    13.467398\n",
       " 2019    13.559709\n",
       " 2020    13.436909\n",
       " Name: selling_price, dtype: float64}"
      ]
     },
     "execution_count": 8,
     "metadata": {},
     "output_type": "execute_result"
    }
   ],
   "execution_count": 8
  },
  {
   "cell_type": "markdown",
   "source": [
    "Реализация класса MeanTargetEncoderNoise."
   ],
   "metadata": {
    "id": "Vudi3wkzWToS"
   }
  },
  {
   "cell_type": "code",
   "metadata": {
    "id": "038NwxXGyF0S",
    "ExecuteTime": {
     "end_time": "2025-06-01T21:31:54.756911Z",
     "start_time": "2025-06-01T21:31:54.748905Z"
    }
   },
   "source": [
    "from sklearn.base import BaseEstimator, TransformerMixin\n",
    "\n",
    "C = 0.006\n",
    "\n",
    "class MeanTargetEncoderNoise(BaseEstimator, TransformerMixin):\n",
    "    \n",
    "    def __init__(self, categorical, numeric):\n",
    "        self.categorical = categorical\n",
    "        self.numeric = numeric\n",
    "        self.mapping = {}\n",
    "\n",
    "    def fit(self, X, y):\n",
    "        X_fit = X.copy()\n",
    "        Y_fit = y.copy()\n",
    "        np.random.seed(1)\n",
    "\n",
    "        for col in self.categorical:\n",
    "            target = Y_fit.groupby(X_fit[col]).mean()\n",
    "            self.mapping[col] = target + C * np.random.randn(target.shape[0])\n",
    "\n",
    "        return self\n",
    "\n",
    "    def transform(self, df):\n",
    "        temp = df.copy()\n",
    "\n",
    "        for col in self.categorical:\n",
    "            temp[col] = temp[col].map(self.mapping[col])\n",
    "            temp[col] = temp[col].fillna(0)\n",
    "        \n",
    "        return temp"
   ],
   "outputs": [],
   "execution_count": 9
  },
  {
   "cell_type": "markdown",
   "source": [
    "Проверка работы трансформера."
   ],
   "metadata": {
    "id": "SDt0igudWbUE"
   }
  },
  {
   "metadata": {
    "ExecuteTime": {
     "end_time": "2025-06-01T21:32:07.195387Z",
     "start_time": "2025-06-01T21:32:07.189322Z"
    }
   },
   "cell_type": "code",
   "source": "np.random.normal(loc = 0.0, scale = 1.0, size =1)",
   "outputs": [
    {
     "data": {
      "text/plain": [
       "array([0.08133635])"
      ]
     },
     "execution_count": 10,
     "metadata": {},
     "output_type": "execute_result"
    }
   ],
   "execution_count": 10
  },
  {
   "cell_type": "code",
   "metadata": {
    "id": "cQSYkr1WyF0T",
    "ExecuteTime": {
     "end_time": "2025-06-01T21:32:31.912480Z",
     "start_time": "2025-06-01T21:32:31.879962Z"
    }
   },
   "source": [
    "np.random.seed(1)\n",
    "transformer = MeanTargetEncoderNoise(categorical=object_cols, numeric=num_cols)\n",
    "\n",
    "transformer.fit(X_train, Y_train)\n",
    "\n",
    "train = transformer.transform(X_train)\n",
    "test = transformer.transform(X_test)\n",
    "\n",
    "train.head(10)"
   ],
   "outputs": [
    {
     "data": {
      "text/plain": [
       "           name       year  km_driven       fuel  seller_type  transmission  \\\n",
       "3294  13.483692  13.436559      50000  13.093756    12.615863     13.771135   \n",
       "2290  12.117029  11.903115      70000  12.453832    12.615863     13.771135   \n",
       "874   12.310456  13.328864      50000  12.453832    12.615863     12.639805   \n",
       "1907  12.491443  13.042359      92198  12.453832    13.152824     12.639805   \n",
       "3244  12.390906  12.870886       3240  12.453832    12.615863     12.639805   \n",
       "1089  12.687432  13.436559      10000  12.453832    13.152824     12.639805   \n",
       "3902  11.698702  11.503504      90000  12.453832    12.615863     12.639805   \n",
       "2215  11.120678  11.503504      79000  12.453832    12.615863     12.639805   \n",
       "3862  13.172879  13.328864      99700  13.093756    12.615863     12.639805   \n",
       "705   13.004194  12.241213     124000  13.093756    12.615863     12.639805   \n",
       "\n",
       "          owner  \n",
       "3294  12.977730  \n",
       "2290  12.977730  \n",
       "874   12.977730  \n",
       "1907  12.463313  \n",
       "3244  12.463313  \n",
       "1089  12.977730  \n",
       "3902  11.878390  \n",
       "2215  12.463313  \n",
       "3862  12.977730  \n",
       "705   12.463313  "
      ],
      "text/html": [
       "<div>\n",
       "<style scoped>\n",
       "    .dataframe tbody tr th:only-of-type {\n",
       "        vertical-align: middle;\n",
       "    }\n",
       "\n",
       "    .dataframe tbody tr th {\n",
       "        vertical-align: top;\n",
       "    }\n",
       "\n",
       "    .dataframe thead th {\n",
       "        text-align: right;\n",
       "    }\n",
       "</style>\n",
       "<table border=\"1\" class=\"dataframe\">\n",
       "  <thead>\n",
       "    <tr style=\"text-align: right;\">\n",
       "      <th></th>\n",
       "      <th>name</th>\n",
       "      <th>year</th>\n",
       "      <th>km_driven</th>\n",
       "      <th>fuel</th>\n",
       "      <th>seller_type</th>\n",
       "      <th>transmission</th>\n",
       "      <th>owner</th>\n",
       "    </tr>\n",
       "  </thead>\n",
       "  <tbody>\n",
       "    <tr>\n",
       "      <th>3294</th>\n",
       "      <td>13.483692</td>\n",
       "      <td>13.436559</td>\n",
       "      <td>50000</td>\n",
       "      <td>13.093756</td>\n",
       "      <td>12.615863</td>\n",
       "      <td>13.771135</td>\n",
       "      <td>12.977730</td>\n",
       "    </tr>\n",
       "    <tr>\n",
       "      <th>2290</th>\n",
       "      <td>12.117029</td>\n",
       "      <td>11.903115</td>\n",
       "      <td>70000</td>\n",
       "      <td>12.453832</td>\n",
       "      <td>12.615863</td>\n",
       "      <td>13.771135</td>\n",
       "      <td>12.977730</td>\n",
       "    </tr>\n",
       "    <tr>\n",
       "      <th>874</th>\n",
       "      <td>12.310456</td>\n",
       "      <td>13.328864</td>\n",
       "      <td>50000</td>\n",
       "      <td>12.453832</td>\n",
       "      <td>12.615863</td>\n",
       "      <td>12.639805</td>\n",
       "      <td>12.977730</td>\n",
       "    </tr>\n",
       "    <tr>\n",
       "      <th>1907</th>\n",
       "      <td>12.491443</td>\n",
       "      <td>13.042359</td>\n",
       "      <td>92198</td>\n",
       "      <td>12.453832</td>\n",
       "      <td>13.152824</td>\n",
       "      <td>12.639805</td>\n",
       "      <td>12.463313</td>\n",
       "    </tr>\n",
       "    <tr>\n",
       "      <th>3244</th>\n",
       "      <td>12.390906</td>\n",
       "      <td>12.870886</td>\n",
       "      <td>3240</td>\n",
       "      <td>12.453832</td>\n",
       "      <td>12.615863</td>\n",
       "      <td>12.639805</td>\n",
       "      <td>12.463313</td>\n",
       "    </tr>\n",
       "    <tr>\n",
       "      <th>1089</th>\n",
       "      <td>12.687432</td>\n",
       "      <td>13.436559</td>\n",
       "      <td>10000</td>\n",
       "      <td>12.453832</td>\n",
       "      <td>13.152824</td>\n",
       "      <td>12.639805</td>\n",
       "      <td>12.977730</td>\n",
       "    </tr>\n",
       "    <tr>\n",
       "      <th>3902</th>\n",
       "      <td>11.698702</td>\n",
       "      <td>11.503504</td>\n",
       "      <td>90000</td>\n",
       "      <td>12.453832</td>\n",
       "      <td>12.615863</td>\n",
       "      <td>12.639805</td>\n",
       "      <td>11.878390</td>\n",
       "    </tr>\n",
       "    <tr>\n",
       "      <th>2215</th>\n",
       "      <td>11.120678</td>\n",
       "      <td>11.503504</td>\n",
       "      <td>79000</td>\n",
       "      <td>12.453832</td>\n",
       "      <td>12.615863</td>\n",
       "      <td>12.639805</td>\n",
       "      <td>12.463313</td>\n",
       "    </tr>\n",
       "    <tr>\n",
       "      <th>3862</th>\n",
       "      <td>13.172879</td>\n",
       "      <td>13.328864</td>\n",
       "      <td>99700</td>\n",
       "      <td>13.093756</td>\n",
       "      <td>12.615863</td>\n",
       "      <td>12.639805</td>\n",
       "      <td>12.977730</td>\n",
       "    </tr>\n",
       "    <tr>\n",
       "      <th>705</th>\n",
       "      <td>13.004194</td>\n",
       "      <td>12.241213</td>\n",
       "      <td>124000</td>\n",
       "      <td>13.093756</td>\n",
       "      <td>12.615863</td>\n",
       "      <td>12.639805</td>\n",
       "      <td>12.463313</td>\n",
       "    </tr>\n",
       "  </tbody>\n",
       "</table>\n",
       "</div>"
      ]
     },
     "execution_count": 12,
     "metadata": {},
     "output_type": "execute_result"
    }
   ],
   "execution_count": 12
  },
  {
   "metadata": {
    "ExecuteTime": {
     "end_time": "2025-06-01T21:35:02.719438Z",
     "start_time": "2025-06-01T21:35:02.703339Z"
    }
   },
   "cell_type": "code",
   "source": "train.head(10).reset_index(drop=True).to_csv(\"step5.csv\", sep=\";\", index=False)",
   "outputs": [],
   "execution_count": 13
  },
  {
   "cell_type": "markdown",
   "metadata": {
    "id": "-9cgA3knyF0U"
   },
   "source": [
    "Обучите несколько деревьев, перебирая максимальную глубину алгоритма из списка `max_depth_list`, а остальные параметры оставьте дефолтными. Выведите лучшее значение гиперпараметра. Постройте график зависимости MSLE на тестовой выборке от значения гиперпараметра. Воспользуйтесь `Pipeline` без `GridSearch`. Проделайте то же самое с `min_samples_split`, `min_impurity_decrease`, `max_leaf_nodes`. (по 2б на каждый параметр)"
   ]
  },
  {
   "cell_type": "code",
   "metadata": {
    "id": "VQCYxECdyF0U",
    "ExecuteTime": {
     "end_time": "2025-06-01T21:37:10.884066Z",
     "start_time": "2025-06-01T21:37:10.879822Z"
    }
   },
   "source": [
    "max_depth_list = [3, 5, 8, 12]\n",
    "min_samples_split_list = [10, 50, 100, 500]\n",
    "min_impurity_decrease_list = [0, 0.1, 0.15, 0.2]\n",
    "max_leaf_nodes_list = [100, 200, 500]"
   ],
   "outputs": [],
   "execution_count": 14
  },
  {
   "cell_type": "code",
   "metadata": {
    "id": "rRRl1cBayF0U",
    "ExecuteTime": {
     "end_time": "2025-06-01T21:44:09.173441Z",
     "start_time": "2025-06-01T21:44:08.958423Z"
    }
   },
   "source": [
    "from sklearn.metrics import mean_squared_error as mse\n",
    "from sklearn.tree import DecisionTreeRegressor\n",
    "from sklearn.pipeline import Pipeline\n",
    "\n",
    "np.random.seed(1)\n",
    "\n",
    "### Your code is here\n",
    "\n",
    "metrics = []\n",
    "\n",
    "for depth in max_depth_list:\n",
    "    pipe = Pipeline([(\"custom_transformer\", MeanTargetEncoderNoise(object_cols, num_cols)),\n",
    "                    (\"tree\", DecisionTreeRegressor(max_depth=depth))])\n",
    "\n",
    "    pipe.fit(X_train, Y_train)\n",
    "    y_pred = pipe.predict(X_test)\n",
    "\n",
    "    score = round(mse(Y_test, y_pred), 3)\n",
    "    metrics.append(score)\n",
    "\n",
    "    print(f\"max_depth: {depth}  MSE == \", score)\n",
    "\n",
    "plt.plot(max_depth_list, metrics, marker=\"o\", linestyle=\"-\")\n",
    "plt.title(\"MSLE over max_depth\")\n",
    "plt.xlabel(\"max_depth\")\n",
    "plt.ylabel(\"MSLE\")\n",
    "plt.show()\n",
    "\n"
   ],
   "outputs": [
    {
     "name": "stdout",
     "output_type": "stream",
     "text": [
      "max_depth: 3  MSE ==  0.798\n",
      "max_depth: 5  MSE ==  1.442\n",
      "max_depth: 8  MSE ==  1.987\n",
      "max_depth: 12  MSE ==  1.984\n"
     ]
    },
    {
     "data": {
      "text/plain": [
       "<Figure size 640x480 with 1 Axes>"
      ],
      "image/png": "[encoded data removed]"
     },
     "metadata": {},
     "output_type": "display_data"
    }
   ],
   "execution_count": 19
  },
  {
   "metadata": {
    "ExecuteTime": {
     "end_time": "2025-06-01T21:44:54.314262Z",
     "start_time": "2025-06-01T21:44:54.092569Z"
    }
   },
   "cell_type": "code",
   "source": [
    "np.random.seed(1)\n",
    "\n",
    "metrics = []\n",
    "\n",
    "for min_samples in min_samples_split_list:\n",
    "    pipe = Pipeline([(\"custom_transformer\", MeanTargetEncoderNoise(object_cols, num_cols)),\n",
    "                    (\"tree\", DecisionTreeRegressor(min_samples_split=min_samples))])\n",
    "\n",
    "    pipe.fit(X_train, Y_train)\n",
    "    y_pred = pipe.predict(X_test)\n",
    "\n",
    "    score = round(mse(Y_test, y_pred), 3)\n",
    "    metrics.append(score)\n",
    "\n",
    "    print(f\"min_samples: {min_samples}  MSE == \", score)\n",
    "\n",
    "plt.plot(min_samples_split_list, metrics, marker=\"o\", linestyle=\"-\")\n",
    "plt.title(\"MSLE over min_samples\")\n",
    "plt.xlabel(\"min_samples\")\n",
    "plt.ylabel(\"MSLE\")\n",
    "plt.show()"
   ],
   "outputs": [
    {
     "name": "stdout",
     "output_type": "stream",
     "text": [
      "min_samples: 10  MSE ==  1.431\n",
      "min_samples: 50  MSE ==  1.437\n",
      "min_samples: 100  MSE ==  0.951\n",
      "min_samples: 500  MSE ==  0.808\n"
     ]
    },
    {
     "data": {
      "text/plain": [
       "<Figure size 640x480 with 1 Axes>"
      ],
      "image/png": "[encoded data removed]"
     },
     "metadata": {},
     "output_type": "display_data"
    }
   ],
   "execution_count": 21
  },
  {
   "metadata": {
    "ExecuteTime": {
     "end_time": "2025-06-01T21:45:35.855164Z",
     "start_time": "2025-06-01T21:45:35.642248Z"
    }
   },
   "cell_type": "code",
   "source": [
    "np.random.seed(1)\n",
    "\n",
    "metrics = []\n",
    "\n",
    "for min_impurity in min_impurity_decrease_list:\n",
    "    pipe = Pipeline([(\"custom_transformer\", MeanTargetEncoderNoise(object_cols, num_cols)),\n",
    "                    (\"tree\", DecisionTreeRegressor(min_impurity_decrease=min_impurity))])\n",
    "\n",
    "    pipe.fit(X_train, Y_train)\n",
    "    y_pred = pipe.predict(X_test)\n",
    "\n",
    "    score = round(mse(Y_test, y_pred), 3)\n",
    "    metrics.append(score)\n",
    "\n",
    "    print(f\"min_impurity_decrease: {min_impurity}  MSE == \", score)\n",
    "\n",
    "plt.plot(min_samples_split_list, metrics, marker=\"o\", linestyle=\"-\")\n",
    "plt.title(\"MSLE over min_impurity_decrease\")\n",
    "plt.xlabel(\"min_impurity_decrease\")\n",
    "plt.ylabel(\"MSLE\")\n",
    "plt.show()"
   ],
   "outputs": [
    {
     "name": "stdout",
     "output_type": "stream",
     "text": [
      "min_impurity_decrease: 0  MSE ==  1.982\n",
      "min_impurity_decrease: 0.1  MSE ==  0.523\n",
      "min_impurity_decrease: 0.15  MSE ==  0.523\n",
      "min_impurity_decrease: 0.2  MSE ==  0.523\n"
     ]
    },
    {
     "data": {
      "text/plain": [
       "<Figure size 640x480 with 1 Axes>"
      ],
      "image/png": "[encoded data removed]"
     },
     "metadata": {},
     "output_type": "display_data"
    }
   ],
   "execution_count": 23
  },
  {
   "metadata": {
    "ExecuteTime": {
     "end_time": "2025-06-01T21:46:19.092027Z",
     "start_time": "2025-06-01T21:46:18.784479Z"
    }
   },
   "cell_type": "code",
   "source": [
    "np.random.seed(1)\n",
    "\n",
    "metrics = []\n",
    "\n",
    "for max_leaf in max_leaf_nodes_list:\n",
    "    pipe = Pipeline([(\"custom_transformer\", MeanTargetEncoderNoise(object_cols, num_cols)),\n",
    "                    (\"tree\", DecisionTreeRegressor(max_leaf_nodes=max_leaf))])\n",
    "\n",
    "    pipe.fit(X_train, Y_train)\n",
    "    y_pred = pipe.predict(X_test)\n",
    "\n",
    "    score = round(mse(Y_test, y_pred), 3)\n",
    "    metrics.append(score)\n",
    "\n",
    "    print(f\"max_leaf_nodes: {max_leaf}  MSLE == \", score)\n",
    "\n",
    "plt.plot(max_leaf_nodes_list, metrics, marker=\"o\", linestyle=\"-\")\n",
    "plt.title(\"MSLE over max_leaf_nodes\")\n",
    "plt.xlabel(\"max_leaf_nodes\")\n",
    "plt.ylabel(\"MSLE\")\n",
    "plt.show()"
   ],
   "outputs": [
    {
     "name": "stdout",
     "output_type": "stream",
     "text": [
      "max_leaf_nodes: 100  MSLE ==  1.988\n",
      "max_leaf_nodes: 200  MSLE ==  1.984\n",
      "max_leaf_nodes: 500  MSLE ==  1.979\n"
     ]
    },
    {
     "data": {
      "text/plain": [
       "<Figure size 640x480 with 1 Axes>"
      ],
      "image/png": "[encoded data removed]"
     },
     "metadata": {},
     "output_type": "display_data"
    }
   ],
   "execution_count": 25
  },
  {
   "cell_type": "markdown",
   "metadata": {
    "id": "TBkYnUa7yF0V"
   },
   "source": [
    "Подберите лучшую комбинацию параметров, используя `GridSearchCV` и набор массивов значений параметров из предыдущего задания. Для лучшей комбинации посчитайте MSLE на тестовой выборке. Получились ли лучшие параметры такими же, как если бы вы подбирали их по-отдельности при остальных гиперпараметрах по умолчанию (предыдущее задание)? (2б)"
   ]
  },
  {
   "cell_type": "code",
   "metadata": {
    "id": "CnUu33ojyF0V",
    "ExecuteTime": {
     "end_time": "2025-06-01T21:48:45.640711Z",
     "start_time": "2025-06-01T21:48:42.482626Z"
    }
   },
   "source": [
    "from sklearn.model_selection import GridSearchCV\n",
    "\n",
    "param_grid = {\n",
    "    \"decision_tree__max_depth\": [3, 5, 8, 12],\n",
    "    \"decision_tree__min_samples_split\": [10, 50, 100, 500],\n",
    "    \"decision_tree__min_impurity_decrease\": [0, 0.1, 0.15, 0.2],\n",
    "    \"decision_tree__max_leaf_nodes\": [100, 200, 500]\n",
    "}\n",
    "np.random.seed(1)\n",
    "\n",
    "### Your code is here\n",
    "\n",
    "pipe = Pipeline([(\"custom_transformer\", MeanTargetEncoderNoise(categorical=object_cols, numeric=num_cols)),\n",
    "                 (\"decision_tree\", DecisionTreeRegressor())])\n",
    "\n",
    "search = GridSearchCV(pipe, param_grid,\n",
    "                      scoring=\"neg_mean_squared_error\",\n",
    "                      verbose=1,\n",
    "                      n_jobs=-1)\n",
    "\n",
    "search.fit(X_train, Y_train)\n",
    "y_pred = search.predict(X_test)\n",
    "\n",
    "print(f\"Best CV MSLE: {search.best_score_:.2f}\")\n",
    "print(f\"Test MSLE: {search.score(X_test, Y_test)}\")\n",
    "print(f\"Best params: {search.best_params_}\")\n"
   ],
   "outputs": [
    {
     "name": "stdout",
     "output_type": "stream",
     "text": [
      "Fitting 5 folds for each of 192 candidates, totalling 960 fits\n",
      "Best CV MSLE: -0.57\n",
      "Test MSLE: -0.5229485887238029\n",
      "Best params: {'decision_tree__max_depth': 3, 'decision_tree__max_leaf_nodes': 100, 'decision_tree__min_impurity_decrease': 0.1, 'decision_tree__min_samples_split': 10}\n"
     ]
    }
   ],
   "execution_count": 29
  },
  {
   "metadata": {},
   "cell_type": "code",
   "outputs": [],
   "execution_count": null,
   "source": ""
  }
 ],
 "metadata": {
  "interpreter": {
   "hash": "8db21564b35bbdf2f1295d2e540489014671416f5dc577a5b9d4ca56833a3713"
  },
  "kernelspec": {
   "display_name": "Python 3",
   "language": "python",
   "name": "python3"
  },
  "language_info": {
   "codemirror_mode": {
    "name": "ipython",
    "version": 3
   },
   "file_extension": ".py",
   "mimetype": "text/x-python",
   "name": "python",
   "nbconvert_exporter": "python",
   "pygments_lexer": "ipython3",
   "version": "3.7.3"
  },
  "colab": {
   "provenance": []
  }
 },
 "nbformat": 4,
 "nbformat_minor": 0
}
